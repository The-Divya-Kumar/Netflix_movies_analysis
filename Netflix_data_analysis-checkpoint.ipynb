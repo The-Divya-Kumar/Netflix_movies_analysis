{
 "cells": [
  {
   "attachments": {},
   "cell_type": "markdown",
   "id": "c1441a4a-1129-4bbf-902a-cc7ae3e62139",
   "metadata": {},
   "source": [
    "## **Case Background:** \n",
    "Netflix is known for its work in data science, AI, and ML, particularly for building strong recommendation models and algorithms that understand customer behavior and patterns. Suppose you are working in a data-driven job role, and you have a dataset of more than 9,000 movies. You need to solve the following questions to help the company make informed business decisions accordingly.\n",
    "\n",
    "## **Exploratory Data Analysis using the guiding questions:** \n",
    "1. What is the most frequent genre of movies released on Netflix?\n",
    "2. Which has highest votes in vote avg column?\n",
    "3. What movie got the highest popularity? what's its genre?\n",
    "4. What movie got the lowest popularity? what's its genre?\n",
    "5. Which year has the most filmed movies?\n",
    "\n",
    "## **Conclusion**\n",
    "1. The most frequent genre of movies is Drama with a frequency of 3715/25552 which is roughly 14.5% of all genres\n",
    "2. The popular vote category has 25.5% votes with 6250 rows. Drama is the most popular genre in the popular category\n",
    "3. Spiderman-no way home has the highest popularity rate with the genres action, science fiction and adventure\n",
    "4. The United States vs. Billie Holiday, and Threads were least popular, with the genres Music, Drama, History, War, Science Fiction\n",
    "5. The year 2021 has the most filmed movies"
   ]
  },
  {
   "attachments": {},
   "cell_type": "markdown",
   "id": "93a9d468-a1b4-40e6-944c-71575c06e4c6",
   "metadata": {},
   "source": [
    "## **Learnings:** \n",
    "1. Always save the dataset into a different dataframe to be able to compare dataframes\n",
    "2. Make your own conclusions, check and recheck assumptions"
   ]
  },
  {
   "cell_type": "markdown",
   "id": "db008c58-8c67-4a9f-8f78-af63b56cae87",
   "metadata": {},
   "source": [
    "## Analysis\n",
    "    "
   ]
  },
  {
   "cell_type": "markdown",
   "id": "d92fc315-6489-4338-bcee-8792a6f4a3b9",
   "metadata": {},
   "source": [
    "### Step: Import relavant Libraries"
   ]
  },
  {
   "cell_type": "code",
   "execution_count": 76,
   "id": "483477c4-14bd-4564-aab6-5f6a21b45295",
   "metadata": {},
   "outputs": [],
   "source": [
    "import numpy as np\n",
    "import pandas as pd\n",
    "import matplotlib.pyplot as plt\n",
    "import seaborn as sns "
   ]
  },
  {
   "cell_type": "markdown",
   "id": "cd548671-91e2-4e66-b375-f5e765c94ac5",
   "metadata": {},
   "source": [
    "### Step: Import data file"
   ]
  },
  {
   "cell_type": "code",
   "execution_count": 78,
   "id": "ade69e44-ccb9-4da9-b08e-fbb8ce909339",
   "metadata": {},
   "outputs": [],
   "source": [
    "df = pd.read_csv('mymoviedb.csv', lineterminator = '\\n')\n",
    "\n",
    "#lineterminator = '\\n': Each row of your CSV ends with \\n, so you're telling pandas: “Hey, each line ends with a newline — split the rows accordingly.”"
   ]
  },
  {
   "cell_type": "code",
   "execution_count": 79,
   "id": "adec6737-1d76-4af7-98e6-3f82dcdd5b5a",
   "metadata": {},
   "outputs": [
    {
     "data": {
      "text/html": [
       "<div>\n",
       "<style scoped>\n",
       "    .dataframe tbody tr th:only-of-type {\n",
       "        vertical-align: middle;\n",
       "    }\n",
       "\n",
       "    .dataframe tbody tr th {\n",
       "        vertical-align: top;\n",
       "    }\n",
       "\n",
       "    .dataframe thead th {\n",
       "        text-align: right;\n",
       "    }\n",
       "</style>\n",
       "<table border=\"1\" class=\"dataframe\">\n",
       "  <thead>\n",
       "    <tr style=\"text-align: right;\">\n",
       "      <th></th>\n",
       "      <th>Release_Date</th>\n",
       "      <th>Title</th>\n",
       "      <th>Overview</th>\n",
       "      <th>Popularity</th>\n",
       "      <th>Vote_Count</th>\n",
       "      <th>Vote_Average</th>\n",
       "      <th>Original_Language</th>\n",
       "      <th>Genre</th>\n",
       "      <th>Poster_Url</th>\n",
       "    </tr>\n",
       "  </thead>\n",
       "  <tbody>\n",
       "    <tr>\n",
       "      <th>0</th>\n",
       "      <td>2021-12-15</td>\n",
       "      <td>Spider-Man: No Way Home</td>\n",
       "      <td>Peter Parker is unmasked and no longer able to...</td>\n",
       "      <td>5083.954</td>\n",
       "      <td>8940</td>\n",
       "      <td>8.3</td>\n",
       "      <td>en</td>\n",
       "      <td>Action, Adventure, Science Fiction</td>\n",
       "      <td>https://image.tmdb.org/t/p/original/1g0dhYtq4i...</td>\n",
       "    </tr>\n",
       "    <tr>\n",
       "      <th>1</th>\n",
       "      <td>2022-03-01</td>\n",
       "      <td>The Batman</td>\n",
       "      <td>In his second year of fighting crime, Batman u...</td>\n",
       "      <td>3827.658</td>\n",
       "      <td>1151</td>\n",
       "      <td>8.1</td>\n",
       "      <td>en</td>\n",
       "      <td>Crime, Mystery, Thriller</td>\n",
       "      <td>https://image.tmdb.org/t/p/original/74xTEgt7R3...</td>\n",
       "    </tr>\n",
       "    <tr>\n",
       "      <th>2</th>\n",
       "      <td>2022-02-25</td>\n",
       "      <td>No Exit</td>\n",
       "      <td>Stranded at a rest stop in the mountains durin...</td>\n",
       "      <td>2618.087</td>\n",
       "      <td>122</td>\n",
       "      <td>6.3</td>\n",
       "      <td>en</td>\n",
       "      <td>Thriller</td>\n",
       "      <td>https://image.tmdb.org/t/p/original/vDHsLnOWKl...</td>\n",
       "    </tr>\n",
       "    <tr>\n",
       "      <th>3</th>\n",
       "      <td>2021-11-24</td>\n",
       "      <td>Encanto</td>\n",
       "      <td>The tale of an extraordinary family, the Madri...</td>\n",
       "      <td>2402.201</td>\n",
       "      <td>5076</td>\n",
       "      <td>7.7</td>\n",
       "      <td>en</td>\n",
       "      <td>Animation, Comedy, Family, Fantasy</td>\n",
       "      <td>https://image.tmdb.org/t/p/original/4j0PNHkMr5...</td>\n",
       "    </tr>\n",
       "    <tr>\n",
       "      <th>4</th>\n",
       "      <td>2021-12-22</td>\n",
       "      <td>The King's Man</td>\n",
       "      <td>As a collection of history's worst tyrants and...</td>\n",
       "      <td>1895.511</td>\n",
       "      <td>1793</td>\n",
       "      <td>7.0</td>\n",
       "      <td>en</td>\n",
       "      <td>Action, Adventure, Thriller, War</td>\n",
       "      <td>https://image.tmdb.org/t/p/original/aq4Pwv5Xeu...</td>\n",
       "    </tr>\n",
       "  </tbody>\n",
       "</table>\n",
       "</div>"
      ],
      "text/plain": [
       "  Release_Date                    Title  \\\n",
       "0   2021-12-15  Spider-Man: No Way Home   \n",
       "1   2022-03-01               The Batman   \n",
       "2   2022-02-25                  No Exit   \n",
       "3   2021-11-24                  Encanto   \n",
       "4   2021-12-22           The King's Man   \n",
       "\n",
       "                                            Overview  Popularity  Vote_Count  \\\n",
       "0  Peter Parker is unmasked and no longer able to...    5083.954        8940   \n",
       "1  In his second year of fighting crime, Batman u...    3827.658        1151   \n",
       "2  Stranded at a rest stop in the mountains durin...    2618.087         122   \n",
       "3  The tale of an extraordinary family, the Madri...    2402.201        5076   \n",
       "4  As a collection of history's worst tyrants and...    1895.511        1793   \n",
       "\n",
       "   Vote_Average Original_Language                               Genre  \\\n",
       "0           8.3                en  Action, Adventure, Science Fiction   \n",
       "1           8.1                en            Crime, Mystery, Thriller   \n",
       "2           6.3                en                            Thriller   \n",
       "3           7.7                en  Animation, Comedy, Family, Fantasy   \n",
       "4           7.0                en    Action, Adventure, Thriller, War   \n",
       "\n",
       "                                          Poster_Url  \n",
       "0  https://image.tmdb.org/t/p/original/1g0dhYtq4i...  \n",
       "1  https://image.tmdb.org/t/p/original/74xTEgt7R3...  \n",
       "2  https://image.tmdb.org/t/p/original/vDHsLnOWKl...  \n",
       "3  https://image.tmdb.org/t/p/original/4j0PNHkMr5...  \n",
       "4  https://image.tmdb.org/t/p/original/aq4Pwv5Xeu...  "
      ]
     },
     "execution_count": 79,
     "metadata": {},
     "output_type": "execute_result"
    }
   ],
   "source": [
    "df.head() #Scan the first 5 rows of the dataset"
   ]
  },
  {
   "cell_type": "code",
   "execution_count": 80,
   "id": "a894650e-c08f-4931-b8f2-c506c6e384d0",
   "metadata": {},
   "outputs": [
    {
     "name": "stdout",
     "output_type": "stream",
     "text": [
      "<class 'pandas.core.frame.DataFrame'>\n",
      "RangeIndex: 9827 entries, 0 to 9826\n",
      "Data columns (total 9 columns):\n",
      " #   Column             Non-Null Count  Dtype  \n",
      "---  ------             --------------  -----  \n",
      " 0   Release_Date       9827 non-null   object \n",
      " 1   Title              9827 non-null   object \n",
      " 2   Overview           9827 non-null   object \n",
      " 3   Popularity         9827 non-null   float64\n",
      " 4   Vote_Count         9827 non-null   int64  \n",
      " 5   Vote_Average       9827 non-null   float64\n",
      " 6   Original_Language  9827 non-null   object \n",
      " 7   Genre              9827 non-null   object \n",
      " 8   Poster_Url         9827 non-null   object \n",
      "dtypes: float64(2), int64(1), object(6)\n",
      "memory usage: 691.1+ KB\n"
     ]
    }
   ],
   "source": [
    "df.info() #Check Data Types of columns in the dataset"
   ]
  },
  {
   "cell_type": "code",
   "execution_count": 81,
   "id": "e56b37a3-6ee3-4856-bd7b-eb81202769a1",
   "metadata": {},
   "outputs": [
    {
     "data": {
      "text/plain": [
       "0    Action, Adventure, Science Fiction\n",
       "1              Crime, Mystery, Thriller\n",
       "2                              Thriller\n",
       "3    Animation, Comedy, Family, Fantasy\n",
       "4      Action, Adventure, Thriller, War\n",
       "Name: Genre, dtype: object"
      ]
     },
     "execution_count": 81,
     "metadata": {},
     "output_type": "execute_result"
    }
   ],
   "source": [
    "df['Genre'].head() #Check the 1st 5 rows of genre column for irregulatiries"
   ]
  },
  {
   "cell_type": "code",
   "execution_count": 82,
   "id": "7432ff2c-60ed-4a9c-8661-9e6336f986e2",
   "metadata": {},
   "outputs": [
    {
     "data": {
      "text/plain": [
       "9827"
      ]
     },
     "execution_count": 82,
     "metadata": {},
     "output_type": "execute_result"
    }
   ],
   "source": [
    "len(df) #Checking number of rows in the dataset"
   ]
  },
  {
   "cell_type": "code",
   "execution_count": 83,
   "id": "a9a7107d-a840-42c0-afaf-937504a55ee3",
   "metadata": {},
   "outputs": [
    {
     "data": {
      "text/plain": [
       "0"
      ]
     },
     "execution_count": 83,
     "metadata": {},
     "output_type": "execute_result"
    }
   ],
   "source": [
    "df.duplicated().sum() #Checking if the dataset has any duplicates\n",
    "\n",
    "# df.duplicated(): This checks every row in your DataFrame df and returns a boolean Series \n",
    "# — True if a row is a duplicate of a previous row, False otherwise.\n",
    "\n",
    "# .sum(): Tells you how many rows are duplicated (Sum of true)"
   ]
  },
  {
   "cell_type": "code",
   "execution_count": 84,
   "id": "6983bdf5-ac4a-4372-9cd1-0c723b4368d3",
   "metadata": {},
   "outputs": [
    {
     "data": {
      "text/html": [
       "<div>\n",
       "<style scoped>\n",
       "    .dataframe tbody tr th:only-of-type {\n",
       "        vertical-align: middle;\n",
       "    }\n",
       "\n",
       "    .dataframe tbody tr th {\n",
       "        vertical-align: top;\n",
       "    }\n",
       "\n",
       "    .dataframe thead th {\n",
       "        text-align: right;\n",
       "    }\n",
       "</style>\n",
       "<table border=\"1\" class=\"dataframe\">\n",
       "  <thead>\n",
       "    <tr style=\"text-align: right;\">\n",
       "      <th></th>\n",
       "      <th>Popularity</th>\n",
       "      <th>Vote_Count</th>\n",
       "      <th>Vote_Average</th>\n",
       "    </tr>\n",
       "  </thead>\n",
       "  <tbody>\n",
       "    <tr>\n",
       "      <th>count</th>\n",
       "      <td>9827.000000</td>\n",
       "      <td>9827.000000</td>\n",
       "      <td>9827.000000</td>\n",
       "    </tr>\n",
       "    <tr>\n",
       "      <th>mean</th>\n",
       "      <td>40.326088</td>\n",
       "      <td>1392.805536</td>\n",
       "      <td>6.439534</td>\n",
       "    </tr>\n",
       "    <tr>\n",
       "      <th>std</th>\n",
       "      <td>108.873998</td>\n",
       "      <td>2611.206907</td>\n",
       "      <td>1.129759</td>\n",
       "    </tr>\n",
       "    <tr>\n",
       "      <th>min</th>\n",
       "      <td>13.354000</td>\n",
       "      <td>0.000000</td>\n",
       "      <td>0.000000</td>\n",
       "    </tr>\n",
       "    <tr>\n",
       "      <th>25%</th>\n",
       "      <td>16.128500</td>\n",
       "      <td>146.000000</td>\n",
       "      <td>5.900000</td>\n",
       "    </tr>\n",
       "    <tr>\n",
       "      <th>50%</th>\n",
       "      <td>21.199000</td>\n",
       "      <td>444.000000</td>\n",
       "      <td>6.500000</td>\n",
       "    </tr>\n",
       "    <tr>\n",
       "      <th>75%</th>\n",
       "      <td>35.191500</td>\n",
       "      <td>1376.000000</td>\n",
       "      <td>7.100000</td>\n",
       "    </tr>\n",
       "    <tr>\n",
       "      <th>max</th>\n",
       "      <td>5083.954000</td>\n",
       "      <td>31077.000000</td>\n",
       "      <td>10.000000</td>\n",
       "    </tr>\n",
       "  </tbody>\n",
       "</table>\n",
       "</div>"
      ],
      "text/plain": [
       "        Popularity    Vote_Count  Vote_Average\n",
       "count  9827.000000   9827.000000   9827.000000\n",
       "mean     40.326088   1392.805536      6.439534\n",
       "std     108.873998   2611.206907      1.129759\n",
       "min      13.354000      0.000000      0.000000\n",
       "25%      16.128500    146.000000      5.900000\n",
       "50%      21.199000    444.000000      6.500000\n",
       "75%      35.191500   1376.000000      7.100000\n",
       "max    5083.954000  31077.000000     10.000000"
      ]
     },
     "execution_count": 84,
     "metadata": {},
     "output_type": "execute_result"
    }
   ],
   "source": [
    "df.describe() #For Statistical summary of numeric columns"
   ]
  },
  {
   "cell_type": "markdown",
   "id": "2f9ded4c-021f-4534-942a-9ee0202313cc",
   "metadata": {},
   "source": [
    "#### Moving Summary"
   ]
  },
  {
   "cell_type": "markdown",
   "id": "18b8d42d-1a76-43bb-ae72-65e913d51a4a",
   "metadata": {},
   "source": [
    "**Observations:**\n",
    "1. The datafrmae has 9827 rows and 9 columns\n",
    "2. The dataset seems tidy with no NaNs or duplicates\n",
    "\n",
    "**Modifications:**\n",
    "1. Release_Date needs to be casted into data time to extract only the year (which is relavant to the analysis)\n",
    "2. The columns Overview, Original_Language and Poster_Url are not relavant to the analysis\n",
    "3. Vote_Average can be categorised for better analysis\n",
    "4. Genre column has comma seperated values with a white space after each comma\n",
    "5. Genre column should also be categorised for better analysis\n",
    "   "
   ]
  },
  {
   "cell_type": "markdown",
   "id": "d34ebb04-c1f1-4b18-a4a0-cd5ac3df8f55",
   "metadata": {},
   "source": [
    "### Step: Changing Data type of `Release_Date` column"
   ]
  },
  {
   "cell_type": "code",
   "execution_count": 88,
   "id": "5d2e383b-fce7-44f1-9b45-f5403036a2d1",
   "metadata": {},
   "outputs": [
    {
     "name": "stdout",
     "output_type": "stream",
     "text": [
      "datetime64[ns]\n"
     ]
    }
   ],
   "source": [
    "df['Release_Date'] = pd.to_datetime(df['Release_Date'], errors='coerce')\n",
    "print(df['Release_Date'].dtype)\n",
    "\n",
    "#Meaning of each line:\n",
    "#df['Release_Date']\n",
    "#→ You're selecting the column called Release_Date.\n",
    "\n",
    "#pd.to_datetime(...)\n",
    "#→ This function tries to convert strings (like '2023-01-01' or '01/01/2023') into actual datetime64 format \n",
    "# — basically, dates that pandas can understand and work with (for sorting, extracting years, etc.).\n",
    "\n",
    "#errors='coerce'\n",
    "#→ If a value cannot be converted to a proper date (like \"unknown\" or \"abcd\"), it will not crash.\n",
    "#Instead, it will turn that value into NaT, which means Not a Time (similar to NaN but for datetime)."
   ]
  },
  {
   "cell_type": "code",
   "execution_count": 89,
   "id": "1cc3d38a-d7b9-4701-95bf-f78702bd059a",
   "metadata": {},
   "outputs": [
    {
     "data": {
      "text/plain": [
       "dtype('int32')"
      ]
     },
     "execution_count": 89,
     "metadata": {},
     "output_type": "execute_result"
    }
   ],
   "source": [
    "df['Release_Date'] = df['Release_Date'].dt.year\n",
    "df['Release_Date'].dtype\n",
    "\n",
    "#df['Release_Date']: selects the Release_Date column from the DataFrame.\n",
    "\n",
    "#.dt.year: extracts only the year from the datetime values.\n",
    "\n",
    "#df['Release_Date'] = ...: overwrites the column with just the years.\n",
    "\n",
    "#df['Release_Date'].dtype: checks the data type of the updated column (will now show int64)."
   ]
  },
  {
   "cell_type": "code",
   "execution_count": 90,
   "id": "25e05755-69bf-4be9-8e4f-9ecf322f6f21",
   "metadata": {},
   "outputs": [
    {
     "name": "stdout",
     "output_type": "stream",
     "text": [
      "<class 'pandas.core.frame.DataFrame'>\n",
      "RangeIndex: 9827 entries, 0 to 9826\n",
      "Data columns (total 9 columns):\n",
      " #   Column             Non-Null Count  Dtype  \n",
      "---  ------             --------------  -----  \n",
      " 0   Release_Date       9827 non-null   int32  \n",
      " 1   Title              9827 non-null   object \n",
      " 2   Overview           9827 non-null   object \n",
      " 3   Popularity         9827 non-null   float64\n",
      " 4   Vote_Count         9827 non-null   int64  \n",
      " 5   Vote_Average       9827 non-null   float64\n",
      " 6   Original_Language  9827 non-null   object \n",
      " 7   Genre              9827 non-null   object \n",
      " 8   Poster_Url         9827 non-null   object \n",
      "dtypes: float64(2), int32(1), int64(1), object(5)\n",
      "memory usage: 652.7+ KB\n"
     ]
    }
   ],
   "source": [
    "df.info()"
   ]
  },
  {
   "cell_type": "code",
   "execution_count": 91,
   "id": "d028dc0f-23f1-4f0a-8e44-2a31faa84ecb",
   "metadata": {},
   "outputs": [
    {
     "data": {
      "text/plain": [
       "0       2021\n",
       "1       2022\n",
       "2       2022\n",
       "3       2021\n",
       "4       2021\n",
       "        ... \n",
       "9822    1973\n",
       "9823    2020\n",
       "9824    2016\n",
       "9825    2021\n",
       "9826    1984\n",
       "Name: Release_Date, Length: 9827, dtype: int32"
      ]
     },
     "execution_count": 91,
     "metadata": {},
     "output_type": "execute_result"
    }
   ],
   "source": [
    "df['Release_Date']"
   ]
  },
  {
   "cell_type": "markdown",
   "id": "4d251df0-bc94-4cb9-a171-9d7c9d29fb6c",
   "metadata": {},
   "source": [
    "### Step: Removing the `Overview`, `Original_Language` and `Poster_Url` columns "
   ]
  },
  {
   "cell_type": "code",
   "execution_count": 93,
   "id": "aa78c211-bf96-4086-9588-2dd7307f03a3",
   "metadata": {},
   "outputs": [
    {
     "data": {
      "text/plain": [
       "Index(['Release_Date', 'Title', 'Overview', 'Popularity', 'Vote_Count',\n",
       "       'Vote_Average', 'Original_Language', 'Genre', 'Poster_Url'],\n",
       "      dtype='object')"
      ]
     },
     "execution_count": 93,
     "metadata": {},
     "output_type": "execute_result"
    }
   ],
   "source": [
    "df.columns"
   ]
  },
  {
   "cell_type": "code",
   "execution_count": 94,
   "id": "9dd32320-4f04-484a-8ddf-528257e4da10",
   "metadata": {},
   "outputs": [],
   "source": [
    "cols = ['Overview','Original_Language','Poster_Url']"
   ]
  },
  {
   "cell_type": "code",
   "execution_count": 95,
   "id": "4db4ce3e-6741-4f8c-8de6-823016773b6c",
   "metadata": {},
   "outputs": [],
   "source": [
    "df.drop(cols, axis = 1, inplace = True)\n",
    "\n",
    "#df.drop(...): drops rows or columns from df.\n",
    "\n",
    "#cols: a list of column names to remove (e.g., ['Overview', 'Poster_Url']).\n",
    "\n",
    "#axis=1: tells pandas to drop columns (axis 0 would be rows).\n",
    "\n",
    "#inplace=True: applies the change directly to df without needing to assign it back. \n",
    "\n",
    "#Without inplace=True: you're making a copy and replacing the old one.\n",
    "#With inplace=True: you're modifying the original directly.\n",
    "#It’s like editing a document:\n",
    "#Without inplace=True: you make edits in a new file, then save over the original.\n",
    "#With inplace=True: you just edit the original file directly."
   ]
  },
  {
   "cell_type": "code",
   "execution_count": 96,
   "id": "82702045-f6fb-4151-bef4-4ef1c3aa5a48",
   "metadata": {},
   "outputs": [
    {
     "data": {
      "text/plain": [
       "Index(['Release_Date', 'Title', 'Popularity', 'Vote_Count', 'Vote_Average',\n",
       "       'Genre'],\n",
       "      dtype='object')"
      ]
     },
     "execution_count": 96,
     "metadata": {},
     "output_type": "execute_result"
    }
   ],
   "source": [
    "df.columns"
   ]
  },
  {
   "cell_type": "markdown",
   "id": "e22ac744-1c2e-40bb-a9c0-d243cd2dee71",
   "metadata": {},
   "source": [
    "### Step: Categorising the `Vote_Average` column"
   ]
  },
  {
   "cell_type": "markdown",
   "id": "c1a26cc8-4441-4754-b749-cdb14ee9553d",
   "metadata": {},
   "source": [
    "The `Vote_Average` will be divided into 4 categories: `popular`, `average`, `below_average` and `not popular`"
   ]
  },
  {
   "cell_type": "code",
   "execution_count": 99,
   "id": "de9a26d2-8af6-4d0e-bdd9-1bd2ef4f77cb",
   "metadata": {
    "scrolled": true
   },
   "outputs": [],
   "source": [
    "def categorize(df, col, labels, new_col_name):\n",
    "    edges = [\n",
    "        df[col].describe()['min'],\n",
    "        df[col].describe()['25%'],\n",
    "        df[col].describe()['50%'],\n",
    "        df[col].describe()['75%'],\n",
    "        df[col].describe()['max']\n",
    "    ]\n",
    "    df[new_col_name] = pd.cut(df[col], bins=edges, labels=labels, duplicates='drop')\n",
    "    return df\n",
    "\n",
    "#This is defining a function called categorize. It takes:\n",
    "\n",
    "#df: your DataFrame,\n",
    "\n",
    "#col: the name of the column you want to categorize (as a string),\n",
    "\n",
    "#labels: a list of names to give to each category (like ['low', 'medium', 'high']).\n",
    "\n",
    "#new_col_name: to insert results into a new column instead of replacing an existing column."
   ]
  },
  {
   "cell_type": "code",
   "execution_count": 100,
   "id": "daa176cb-2de4-4367-9e9e-1aafe9176f23",
   "metadata": {},
   "outputs": [
    {
     "data": {
      "text/plain": [
       "['Popular', 'Below Average', 'Average', 'Not Popular', NaN]\n",
       "Categories (4, object): ['Not Popular' < 'Below Average' < 'Average' < 'Popular']"
      ]
     },
     "execution_count": 100,
     "metadata": {},
     "output_type": "execute_result"
    }
   ],
   "source": [
    "labels = ['Not Popular', 'Below Average', 'Average', 'Popular']\n",
    "categorize(df, 'Vote_Average', labels, 'Vote_Average_Category')\n",
    "df['Vote_Average_Category'].unique()\n",
    "\n",
    "#Here the labels are being assigned to the bins created in the previous line of code\n",
    "#Calling the categorise function defined earlier with the feilds required \n",
    "#Returning values of the column that are unique"
   ]
  },
  {
   "cell_type": "code",
   "execution_count": 101,
   "id": "73adf1e9-7e2e-4b86-8a38-7d5d4b477232",
   "metadata": {},
   "outputs": [
    {
     "data": {
      "text/html": [
       "<div>\n",
       "<style scoped>\n",
       "    .dataframe tbody tr th:only-of-type {\n",
       "        vertical-align: middle;\n",
       "    }\n",
       "\n",
       "    .dataframe tbody tr th {\n",
       "        vertical-align: top;\n",
       "    }\n",
       "\n",
       "    .dataframe thead th {\n",
       "        text-align: right;\n",
       "    }\n",
       "</style>\n",
       "<table border=\"1\" class=\"dataframe\">\n",
       "  <thead>\n",
       "    <tr style=\"text-align: right;\">\n",
       "      <th></th>\n",
       "      <th>Release_Date</th>\n",
       "      <th>Title</th>\n",
       "      <th>Popularity</th>\n",
       "      <th>Vote_Count</th>\n",
       "      <th>Vote_Average</th>\n",
       "      <th>Genre</th>\n",
       "      <th>Vote_Average_Category</th>\n",
       "    </tr>\n",
       "  </thead>\n",
       "  <tbody>\n",
       "    <tr>\n",
       "      <th>0</th>\n",
       "      <td>2021</td>\n",
       "      <td>Spider-Man: No Way Home</td>\n",
       "      <td>5083.954</td>\n",
       "      <td>8940</td>\n",
       "      <td>8.3</td>\n",
       "      <td>Action, Adventure, Science Fiction</td>\n",
       "      <td>Popular</td>\n",
       "    </tr>\n",
       "    <tr>\n",
       "      <th>1</th>\n",
       "      <td>2022</td>\n",
       "      <td>The Batman</td>\n",
       "      <td>3827.658</td>\n",
       "      <td>1151</td>\n",
       "      <td>8.1</td>\n",
       "      <td>Crime, Mystery, Thriller</td>\n",
       "      <td>Popular</td>\n",
       "    </tr>\n",
       "    <tr>\n",
       "      <th>2</th>\n",
       "      <td>2022</td>\n",
       "      <td>No Exit</td>\n",
       "      <td>2618.087</td>\n",
       "      <td>122</td>\n",
       "      <td>6.3</td>\n",
       "      <td>Thriller</td>\n",
       "      <td>Below Average</td>\n",
       "    </tr>\n",
       "    <tr>\n",
       "      <th>3</th>\n",
       "      <td>2021</td>\n",
       "      <td>Encanto</td>\n",
       "      <td>2402.201</td>\n",
       "      <td>5076</td>\n",
       "      <td>7.7</td>\n",
       "      <td>Animation, Comedy, Family, Fantasy</td>\n",
       "      <td>Popular</td>\n",
       "    </tr>\n",
       "    <tr>\n",
       "      <th>4</th>\n",
       "      <td>2021</td>\n",
       "      <td>The King's Man</td>\n",
       "      <td>1895.511</td>\n",
       "      <td>1793</td>\n",
       "      <td>7.0</td>\n",
       "      <td>Action, Adventure, Thriller, War</td>\n",
       "      <td>Average</td>\n",
       "    </tr>\n",
       "  </tbody>\n",
       "</table>\n",
       "</div>"
      ],
      "text/plain": [
       "   Release_Date                    Title  Popularity  Vote_Count  \\\n",
       "0          2021  Spider-Man: No Way Home    5083.954        8940   \n",
       "1          2022               The Batman    3827.658        1151   \n",
       "2          2022                  No Exit    2618.087         122   \n",
       "3          2021                  Encanto    2402.201        5076   \n",
       "4          2021           The King's Man    1895.511        1793   \n",
       "\n",
       "   Vote_Average                               Genre Vote_Average_Category  \n",
       "0           8.3  Action, Adventure, Science Fiction               Popular  \n",
       "1           8.1            Crime, Mystery, Thriller               Popular  \n",
       "2           6.3                            Thriller         Below Average  \n",
       "3           7.7  Animation, Comedy, Family, Fantasy               Popular  \n",
       "4           7.0    Action, Adventure, Thriller, War               Average  "
      ]
     },
     "execution_count": 101,
     "metadata": {},
     "output_type": "execute_result"
    }
   ],
   "source": [
    "df.head()"
   ]
  },
  {
   "cell_type": "code",
   "execution_count": 102,
   "id": "8e0aa3ca-e382-461c-8610-ac2e303920d2",
   "metadata": {},
   "outputs": [
    {
     "data": {
      "text/plain": [
       "Vote_Average_Category\n",
       "Not Popular      2467\n",
       "Popular          2450\n",
       "Average          2412\n",
       "Below Average    2398\n",
       "Name: count, dtype: int64"
      ]
     },
     "execution_count": 102,
     "metadata": {},
     "output_type": "execute_result"
    }
   ],
   "source": [
    "df['Vote_Average_Category'].value_counts()"
   ]
  },
  {
   "cell_type": "code",
   "execution_count": 103,
   "id": "5dc9a72b-e3d3-4f8b-ad20-fc0da8271e8e",
   "metadata": {},
   "outputs": [
    {
     "data": {
      "text/plain": [
       "Release_Date             0\n",
       "Title                    0\n",
       "Popularity               0\n",
       "Vote_Count               0\n",
       "Vote_Average             0\n",
       "Genre                    0\n",
       "Vote_Average_Category    0\n",
       "dtype: int64"
      ]
     },
     "execution_count": 103,
     "metadata": {},
     "output_type": "execute_result"
    }
   ],
   "source": [
    "df.dropna(inplace= True)\n",
    "df.isna().sum()"
   ]
  },
  {
   "cell_type": "markdown",
   "id": "c4af75a8-06dd-4904-8a09-17978bf1c2c8",
   "metadata": {},
   "source": [
    "### Step: Split the `Genre` field so that each movie-genre pair appears in a separate row, with only one genre per line."
   ]
  },
  {
   "cell_type": "code",
   "execution_count": 105,
   "id": "6bc319e4-f421-4323-b4c8-d3472ddf1a24",
   "metadata": {},
   "outputs": [
    {
     "data": {
      "text/html": [
       "<div>\n",
       "<style scoped>\n",
       "    .dataframe tbody tr th:only-of-type {\n",
       "        vertical-align: middle;\n",
       "    }\n",
       "\n",
       "    .dataframe tbody tr th {\n",
       "        vertical-align: top;\n",
       "    }\n",
       "\n",
       "    .dataframe thead th {\n",
       "        text-align: right;\n",
       "    }\n",
       "</style>\n",
       "<table border=\"1\" class=\"dataframe\">\n",
       "  <thead>\n",
       "    <tr style=\"text-align: right;\">\n",
       "      <th></th>\n",
       "      <th>Release_Date</th>\n",
       "      <th>Title</th>\n",
       "      <th>Popularity</th>\n",
       "      <th>Vote_Count</th>\n",
       "      <th>Vote_Average</th>\n",
       "      <th>Genre</th>\n",
       "      <th>Vote_Average_Category</th>\n",
       "    </tr>\n",
       "  </thead>\n",
       "  <tbody>\n",
       "    <tr>\n",
       "      <th>0</th>\n",
       "      <td>2021</td>\n",
       "      <td>Spider-Man: No Way Home</td>\n",
       "      <td>5083.954</td>\n",
       "      <td>8940</td>\n",
       "      <td>8.3</td>\n",
       "      <td>Action</td>\n",
       "      <td>Popular</td>\n",
       "    </tr>\n",
       "    <tr>\n",
       "      <th>1</th>\n",
       "      <td>2021</td>\n",
       "      <td>Spider-Man: No Way Home</td>\n",
       "      <td>5083.954</td>\n",
       "      <td>8940</td>\n",
       "      <td>8.3</td>\n",
       "      <td>Adventure</td>\n",
       "      <td>Popular</td>\n",
       "    </tr>\n",
       "    <tr>\n",
       "      <th>2</th>\n",
       "      <td>2021</td>\n",
       "      <td>Spider-Man: No Way Home</td>\n",
       "      <td>5083.954</td>\n",
       "      <td>8940</td>\n",
       "      <td>8.3</td>\n",
       "      <td>Science Fiction</td>\n",
       "      <td>Popular</td>\n",
       "    </tr>\n",
       "    <tr>\n",
       "      <th>3</th>\n",
       "      <td>2022</td>\n",
       "      <td>The Batman</td>\n",
       "      <td>3827.658</td>\n",
       "      <td>1151</td>\n",
       "      <td>8.1</td>\n",
       "      <td>Crime</td>\n",
       "      <td>Popular</td>\n",
       "    </tr>\n",
       "    <tr>\n",
       "      <th>4</th>\n",
       "      <td>2022</td>\n",
       "      <td>The Batman</td>\n",
       "      <td>3827.658</td>\n",
       "      <td>1151</td>\n",
       "      <td>8.1</td>\n",
       "      <td>Mystery</td>\n",
       "      <td>Popular</td>\n",
       "    </tr>\n",
       "  </tbody>\n",
       "</table>\n",
       "</div>"
      ],
      "text/plain": [
       "   Release_Date                    Title  Popularity  Vote_Count  \\\n",
       "0          2021  Spider-Man: No Way Home    5083.954        8940   \n",
       "1          2021  Spider-Man: No Way Home    5083.954        8940   \n",
       "2          2021  Spider-Man: No Way Home    5083.954        8940   \n",
       "3          2022               The Batman    3827.658        1151   \n",
       "4          2022               The Batman    3827.658        1151   \n",
       "\n",
       "   Vote_Average            Genre Vote_Average_Category  \n",
       "0           8.3           Action               Popular  \n",
       "1           8.3        Adventure               Popular  \n",
       "2           8.3  Science Fiction               Popular  \n",
       "3           8.1            Crime               Popular  \n",
       "4           8.1          Mystery               Popular  "
      ]
     },
     "execution_count": 105,
     "metadata": {},
     "output_type": "execute_result"
    }
   ],
   "source": [
    "df['Genre'] = df['Genre'].str.split(', ')\n",
    "\n",
    "df = df.explode('Genre').reset_index(drop = True)\n",
    "\n",
    "df.head()\n",
    "\n",
    "#This splits the Genre column (\"Action, Adventure\" or \"Comedy, Drama\") into a list of genres.\n",
    "#For example:'Action, Adventure' → ['Action', 'Adventure']\n",
    "#This makes each cell in the Genre column a list instead of a string.\n",
    "\n",
    "# explode('Genre'): This takes each list in the Genre column and creates a new row for each item in the list,\n",
    "#keeping the rest of the row data the same.\n",
    "\n",
    "#reset_index(drop=True): After exploding, the row indices may look jumbled (e.g., 0, 0, 1, 2, 2, 2...).\n",
    "#This resets the index to a clean sequence (0, 1, 2, 3...) and drops the old index.\n",
    "#So if a movie had 3 genres, it now appears as 3 separate rows, each with one genre. "
   ]
  },
  {
   "cell_type": "markdown",
   "id": "267cb780-c7b7-4c5f-bc97-9ab9a028a8d8",
   "metadata": {},
   "source": [
    "### Step: Create categories out of the `Genre` field"
   ]
  },
  {
   "cell_type": "code",
   "execution_count": 107,
   "id": "d8fb817a-7557-42dc-8f4c-23aba3f5c33e",
   "metadata": {},
   "outputs": [
    {
     "data": {
      "text/plain": [
       "CategoricalDtype(categories=['Action', 'Adventure', 'Animation', 'Comedy', 'Crime',\n",
       "                  'Documentary', 'Drama', 'Family', 'Fantasy', 'History',\n",
       "                  'Horror', 'Music', 'Mystery', 'Romance', 'Science Fiction',\n",
       "                  'TV Movie', 'Thriller', 'War', 'Western'],\n",
       ", ordered=False, categories_dtype=object)"
      ]
     },
     "execution_count": 107,
     "metadata": {},
     "output_type": "execute_result"
    }
   ],
   "source": [
    "df['Genre'] = df['Genre'].astype('category')\n",
    "df['Genre'].dtype"
   ]
  },
  {
   "cell_type": "code",
   "execution_count": 108,
   "id": "72dddde3-c184-4720-a425-45d2f416d8d7",
   "metadata": {},
   "outputs": [
    {
     "name": "stdout",
     "output_type": "stream",
     "text": [
      "<class 'pandas.core.frame.DataFrame'>\n",
      "RangeIndex: 25552 entries, 0 to 25551\n",
      "Data columns (total 7 columns):\n",
      " #   Column                 Non-Null Count  Dtype   \n",
      "---  ------                 --------------  -----   \n",
      " 0   Release_Date           25552 non-null  int32   \n",
      " 1   Title                  25552 non-null  object  \n",
      " 2   Popularity             25552 non-null  float64 \n",
      " 3   Vote_Count             25552 non-null  int64   \n",
      " 4   Vote_Average           25552 non-null  float64 \n",
      " 5   Genre                  25552 non-null  category\n",
      " 6   Vote_Average_Category  25552 non-null  category\n",
      "dtypes: category(2), float64(2), int32(1), int64(1), object(1)\n",
      "memory usage: 949.2+ KB\n"
     ]
    }
   ],
   "source": [
    "df.info()"
   ]
  },
  {
   "cell_type": "code",
   "execution_count": 109,
   "id": "d8fa7a82-0a88-41c8-9776-27932fea56a2",
   "metadata": {},
   "outputs": [
    {
     "data": {
      "text/plain": [
       "Release_Date              100\n",
       "Title                    9415\n",
       "Popularity               8088\n",
       "Vote_Count               3265\n",
       "Vote_Average               73\n",
       "Genre                      19\n",
       "Vote_Average_Category       4\n",
       "dtype: int64"
      ]
     },
     "execution_count": 109,
     "metadata": {},
     "output_type": "execute_result"
    }
   ],
   "source": [
    "df.nunique() \n",
    "\n",
    "#This function tells you how many unique values there are in each column of your DataFrame."
   ]
  },
  {
   "cell_type": "markdown",
   "id": "024935c5-c7f7-4f17-98cd-e94cded97c15",
   "metadata": {},
   "source": [
    "### Step: Create Visualisation"
   ]
  },
  {
   "cell_type": "code",
   "execution_count": 111,
   "id": "81a87c4a-4b2a-4b43-b97c-686d3a2b9ad7",
   "metadata": {},
   "outputs": [],
   "source": [
    "sns.set_style('white') \n",
    "\n",
    "#sns → This refers to Seaborn,a Python visualization library built on top of matplotlib, used for making beautiful and informative charts easily.\n",
    "\n",
    "#set_style() → This function sets the overall theme or style for your Seaborn plots. \n",
    "#It changes things like background color, grid lines, tick marks, etc.\n",
    "\n",
    "#'whitegrid' → This is one of the available style options. It means:\n",
    "#White background\n",
    "\n",
    "#Light grey grid lines on the plot (good for numerical data)\n",
    "\n",
    "#Other Options: \n",
    "#sns.set_style('darkgrid')    # Dark background with grid\n",
    "#sns.set_style('white')       # White background, no grid\n",
    "#sns.set_style('dark')        # Dark background, no grid\n",
    "#sns.set_style('ticks')       # White background with ticks on axes"
   ]
  },
  {
   "cell_type": "markdown",
   "id": "a907dbbc-52dd-4b6a-a692-082bec4a5828",
   "metadata": {},
   "source": [
    "### Question 1: What is the most frequent genre of movies released on Netflix?"
   ]
  },
  {
   "cell_type": "code",
   "execution_count": 113,
   "id": "5d1d399a-4319-47a2-9b11-d192359fa7ea",
   "metadata": {},
   "outputs": [
    {
     "data": {
      "text/plain": [
       "count     25552\n",
       "unique       19\n",
       "top       Drama\n",
       "freq       3715\n",
       "Name: Genre, dtype: object"
      ]
     },
     "execution_count": 113,
     "metadata": {},
     "output_type": "execute_result"
    }
   ],
   "source": [
    "df['Genre'].describe()"
   ]
  },
  {
   "cell_type": "code",
   "execution_count": 114,
   "id": "3ffe596e-93aa-4c6c-a36a-c5c708e78672",
   "metadata": {},
   "outputs": [
    {
     "data": {
      "text/plain": [
       "Genre\n",
       "Drama              3715\n",
       "Comedy             3006\n",
       "Action             2652\n",
       "Thriller           2473\n",
       "Adventure          1829\n",
       "Romance            1461\n",
       "Horror             1457\n",
       "Animation          1426\n",
       "Family             1405\n",
       "Fantasy            1295\n",
       "Science Fiction    1255\n",
       "Crime              1235\n",
       "Mystery             765\n",
       "History             426\n",
       "War                 307\n",
       "Music               291\n",
       "TV Movie            214\n",
       "Documentary         203\n",
       "Western             137\n",
       "Name: count, dtype: int64"
      ]
     },
     "execution_count": 114,
     "metadata": {},
     "output_type": "execute_result"
    },
    {
     "data": {
      "image/png": "[encoded data removed]",
      "text/plain": [
       "<Figure size 511.111x500 with 1 Axes>"
      ]
     },
     "metadata": {},
     "output_type": "display_data"
    }
   ],
   "source": [
    "sns.catplot(y='Genre', data = df, kind = 'count',\n",
    "            order = df['Genre'].value_counts().index)\n",
    "plt.title('Genre column distribution')\n",
    "plt.show\n",
    "df['Genre'].value_counts()            \n",
    "\n",
    "\n",
    "#sns.catplot(...)\n",
    "#→ This is a categorical plot function from Seaborn. \n",
    "#It’s used to visualize relationships between a categorical variable and some other variable (or count of occurrences).\n",
    "\n",
    "#x='Genre' → Tells Seaborn to put the 'Genre' column on the x-axis. This means you're showing data for each unique genre.\n",
    "\n",
    "#data=df → You're plotting from the DataFrame named df.\n",
    "\n",
    "#kind='count' → This makes a count plot, meaning it counts how many times each genre appears and shows bars accordingly.\n",
    "#(It’s the same as sns.countplot() under the hood.)\n",
    "\n",
    "#order=df['Genre'].value_counts().index → This sorts the bars by frequency (highest to lowest)."
   ]
  },
  {
   "cell_type": "code",
   "execution_count": 174,
   "id": "7baaee47-782c-4a1e-bf79-0b5aaeebdb08",
   "metadata": {},
   "outputs": [
    {
     "data": {
      "text/plain": [
       "Genre\n",
       "Drama              14.54\n",
       "Comedy             11.76\n",
       "Action             10.38\n",
       "Thriller            9.68\n",
       "Adventure           7.16\n",
       "Romance             5.72\n",
       "Horror              5.70\n",
       "Animation           5.58\n",
       "Family              5.50\n",
       "Fantasy             5.07\n",
       "Science Fiction     4.91\n",
       "Crime               4.83\n",
       "Mystery             2.99\n",
       "History             1.67\n",
       "War                 1.20\n",
       "Music               1.14\n",
       "TV Movie            0.84\n",
       "Documentary         0.79\n",
       "Western             0.54\n",
       "Name: proportion, dtype: float64"
      ]
     },
     "execution_count": 174,
     "metadata": {},
     "output_type": "execute_result"
    }
   ],
   "source": [
    "(df['Genre'].value_counts(normalize=True) * 100).round(2)"
   ]
  },
  {
   "cell_type": "markdown",
   "id": "81890569-4335-41ad-bdf3-60fceb5653b3",
   "metadata": {},
   "source": [
    "### Question 2: Which has highest votes in vote avg column?"
   ]
  },
  {
   "cell_type": "code",
   "execution_count": 238,
   "id": "1a0f28f0-09db-4ec7-9e49-625b8877c0a7",
   "metadata": {},
   "outputs": [
    {
     "data": {
      "text/plain": [
       "Vote_Average_Category\n",
       "Average          25.88\n",
       "Popular          25.52\n",
       "Below Average    24.84\n",
       "Not Popular      23.76\n",
       "Name: proportion, dtype: float64"
      ]
     },
     "execution_count": 238,
     "metadata": {},
     "output_type": "execute_result"
    }
   ],
   "source": [
    "df['Vote_Average_Category'].value_counts()\n",
    "(df['Vote_Average_Category'].value_counts(normalize=True)*100).round(2)"
   ]
  },
  {
   "cell_type": "code",
   "execution_count": 240,
   "id": "ab9dfd80-2082-41e8-b70a-8ead0d68e3a0",
   "metadata": {},
   "outputs": [
    {
     "data": {
      "image/png": "[encoded data removed]",
      "text/plain": [
       "<Figure size 511.111x500 with 1 Axes>"
      ]
     },
     "metadata": {},
     "output_type": "display_data"
    }
   ],
   "source": [
    "sns.catplot(y='Vote_Average_Category', data = df, kind = 'count',\n",
    "            order = df['Vote_Average_Category'].value_counts().index)\n",
    "plt.title('Votes Distribution Chart')\n",
    "plt.show()"
   ]
  },
  {
   "cell_type": "code",
   "execution_count": 222,
   "id": "9c7cf095-256a-45eb-a9c9-e6892208ce61",
   "metadata": {},
   "outputs": [
    {
     "data": {
      "image/png": "[encoded data removed]",
      "text/plain": [
       "<Figure size 511.111x500 with 1 Axes>"
      ]
     },
     "metadata": {},
     "output_type": "display_data"
    },
    {
     "name": "stdout",
     "output_type": "stream",
     "text": [
      "                 Count  Percentage\n",
      "Genre                             \n",
      "Drama             1308       20.06\n",
      "Comedy             602        9.23\n",
      "Animation          544        8.34\n",
      "Action             527        8.08\n",
      "Adventure          449        6.89\n",
      "Romance            414        6.35\n",
      "Thriller           394        6.04\n",
      "Fantasy            379        5.81\n",
      "Family             356        5.46\n",
      "Crime              327        5.02\n",
      "Science Fiction    265        4.06\n",
      "Mystery            197        3.02\n",
      "History            173        2.65\n",
      "War                131        2.01\n",
      "Horror             129        1.98\n",
      "Music              118        1.81\n",
      "Documentary        105        1.61\n",
      "TV Movie            54        0.83\n",
      "Western             48        0.74\n"
     ]
    }
   ],
   "source": [
    "popular = df[df['Vote_Average_Category'] == 'Popular'] \n",
    "sns.catplot(y='Genre', data = popular, kind = 'count',\n",
    "            order = df['Genre'].value_counts().index)\n",
    "plt.title('Popular Category Split')\n",
    "plt.show()\n",
    "\n",
    "print(pd.DataFrame({\n",
    "    'Count': df[df['Vote_Average_Category'] == 'Popular']['Genre'].value_counts(),\n",
    "    'Percentage': (df[df['Vote_Average_Category'] == 'Popular']['Genre'].value_counts(normalize=True) * 100).round(2)\n",
    "}))"
   ]
  },
  {
   "cell_type": "markdown",
   "id": "69c5f44d-4006-47cc-b4cb-74574a6fe590",
   "metadata": {},
   "source": [
    "### Question 3: What movie got the highest popularity? what's its genre?"
   ]
  },
  {
   "cell_type": "code",
   "execution_count": 120,
   "id": "5808f87e-d9f5-41eb-8893-fb94d6817c46",
   "metadata": {},
   "outputs": [
    {
     "data": {
      "text/html": [
       "<div>\n",
       "<style scoped>\n",
       "    .dataframe tbody tr th:only-of-type {\n",
       "        vertical-align: middle;\n",
       "    }\n",
       "\n",
       "    .dataframe tbody tr th {\n",
       "        vertical-align: top;\n",
       "    }\n",
       "\n",
       "    .dataframe thead th {\n",
       "        text-align: right;\n",
       "    }\n",
       "</style>\n",
       "<table border=\"1\" class=\"dataframe\">\n",
       "  <thead>\n",
       "    <tr style=\"text-align: right;\">\n",
       "      <th></th>\n",
       "      <th>Release_Date</th>\n",
       "      <th>Title</th>\n",
       "      <th>Popularity</th>\n",
       "      <th>Vote_Count</th>\n",
       "      <th>Vote_Average</th>\n",
       "      <th>Genre</th>\n",
       "      <th>Vote_Average_Category</th>\n",
       "    </tr>\n",
       "  </thead>\n",
       "  <tbody>\n",
       "    <tr>\n",
       "      <th>0</th>\n",
       "      <td>2021</td>\n",
       "      <td>Spider-Man: No Way Home</td>\n",
       "      <td>5083.954</td>\n",
       "      <td>8940</td>\n",
       "      <td>8.3</td>\n",
       "      <td>Action</td>\n",
       "      <td>Popular</td>\n",
       "    </tr>\n",
       "    <tr>\n",
       "      <th>1</th>\n",
       "      <td>2021</td>\n",
       "      <td>Spider-Man: No Way Home</td>\n",
       "      <td>5083.954</td>\n",
       "      <td>8940</td>\n",
       "      <td>8.3</td>\n",
       "      <td>Adventure</td>\n",
       "      <td>Popular</td>\n",
       "    </tr>\n",
       "    <tr>\n",
       "      <th>2</th>\n",
       "      <td>2021</td>\n",
       "      <td>Spider-Man: No Way Home</td>\n",
       "      <td>5083.954</td>\n",
       "      <td>8940</td>\n",
       "      <td>8.3</td>\n",
       "      <td>Science Fiction</td>\n",
       "      <td>Popular</td>\n",
       "    </tr>\n",
       "  </tbody>\n",
       "</table>\n",
       "</div>"
      ],
      "text/plain": [
       "   Release_Date                    Title  Popularity  Vote_Count  \\\n",
       "0          2021  Spider-Man: No Way Home    5083.954        8940   \n",
       "1          2021  Spider-Man: No Way Home    5083.954        8940   \n",
       "2          2021  Spider-Man: No Way Home    5083.954        8940   \n",
       "\n",
       "   Vote_Average            Genre Vote_Average_Category  \n",
       "0           8.3           Action               Popular  \n",
       "1           8.3        Adventure               Popular  \n",
       "2           8.3  Science Fiction               Popular  "
      ]
     },
     "execution_count": 120,
     "metadata": {},
     "output_type": "execute_result"
    }
   ],
   "source": [
    "df[df['Popularity']==df['Popularity'].max()]\n",
    "\n",
    "# df['Popularity'].max() --> Finds the maximum value inside Popularity\n",
    "\n",
    "# df['Popularity']==df['Popularity'].max() --> Checks each row if the popularity = maximum \n",
    "\n",
    "#df[df['Popularity']==df['Popularity'].max()] --> Filters those rows from the dataframe where popularity is maximum"
   ]
  },
  {
   "cell_type": "code",
   "execution_count": 121,
   "id": "d584b784-12fa-42f9-8002-762bf7d99972",
   "metadata": {},
   "outputs": [
    {
     "data": {
      "text/html": [
       "<div>\n",
       "<style scoped>\n",
       "    .dataframe tbody tr th:only-of-type {\n",
       "        vertical-align: middle;\n",
       "    }\n",
       "\n",
       "    .dataframe tbody tr th {\n",
       "        vertical-align: top;\n",
       "    }\n",
       "\n",
       "    .dataframe thead th {\n",
       "        text-align: right;\n",
       "    }\n",
       "</style>\n",
       "<table border=\"1\" class=\"dataframe\">\n",
       "  <thead>\n",
       "    <tr style=\"text-align: right;\">\n",
       "      <th></th>\n",
       "      <th>Release_Date</th>\n",
       "      <th>Title</th>\n",
       "      <th>Popularity</th>\n",
       "      <th>Vote_Count</th>\n",
       "      <th>Vote_Average</th>\n",
       "      <th>Genre</th>\n",
       "      <th>Vote_Average_Category</th>\n",
       "    </tr>\n",
       "  </thead>\n",
       "  <tbody>\n",
       "    <tr>\n",
       "      <th>0</th>\n",
       "      <td>2021</td>\n",
       "      <td>Spider-Man: No Way Home</td>\n",
       "      <td>5083.954</td>\n",
       "      <td>8940</td>\n",
       "      <td>8.3</td>\n",
       "      <td>Action</td>\n",
       "      <td>Popular</td>\n",
       "    </tr>\n",
       "    <tr>\n",
       "      <th>2</th>\n",
       "      <td>2021</td>\n",
       "      <td>Spider-Man: No Way Home</td>\n",
       "      <td>5083.954</td>\n",
       "      <td>8940</td>\n",
       "      <td>8.3</td>\n",
       "      <td>Science Fiction</td>\n",
       "      <td>Popular</td>\n",
       "    </tr>\n",
       "    <tr>\n",
       "      <th>1</th>\n",
       "      <td>2021</td>\n",
       "      <td>Spider-Man: No Way Home</td>\n",
       "      <td>5083.954</td>\n",
       "      <td>8940</td>\n",
       "      <td>8.3</td>\n",
       "      <td>Adventure</td>\n",
       "      <td>Popular</td>\n",
       "    </tr>\n",
       "    <tr>\n",
       "      <th>3</th>\n",
       "      <td>2022</td>\n",
       "      <td>The Batman</td>\n",
       "      <td>3827.658</td>\n",
       "      <td>1151</td>\n",
       "      <td>8.1</td>\n",
       "      <td>Crime</td>\n",
       "      <td>Popular</td>\n",
       "    </tr>\n",
       "    <tr>\n",
       "      <th>5</th>\n",
       "      <td>2022</td>\n",
       "      <td>The Batman</td>\n",
       "      <td>3827.658</td>\n",
       "      <td>1151</td>\n",
       "      <td>8.1</td>\n",
       "      <td>Thriller</td>\n",
       "      <td>Popular</td>\n",
       "    </tr>\n",
       "    <tr>\n",
       "      <th>4</th>\n",
       "      <td>2022</td>\n",
       "      <td>The Batman</td>\n",
       "      <td>3827.658</td>\n",
       "      <td>1151</td>\n",
       "      <td>8.1</td>\n",
       "      <td>Mystery</td>\n",
       "      <td>Popular</td>\n",
       "    </tr>\n",
       "    <tr>\n",
       "      <th>6</th>\n",
       "      <td>2022</td>\n",
       "      <td>No Exit</td>\n",
       "      <td>2618.087</td>\n",
       "      <td>122</td>\n",
       "      <td>6.3</td>\n",
       "      <td>Thriller</td>\n",
       "      <td>Below Average</td>\n",
       "    </tr>\n",
       "    <tr>\n",
       "      <th>9</th>\n",
       "      <td>2021</td>\n",
       "      <td>Encanto</td>\n",
       "      <td>2402.201</td>\n",
       "      <td>5076</td>\n",
       "      <td>7.7</td>\n",
       "      <td>Family</td>\n",
       "      <td>Popular</td>\n",
       "    </tr>\n",
       "    <tr>\n",
       "      <th>10</th>\n",
       "      <td>2021</td>\n",
       "      <td>Encanto</td>\n",
       "      <td>2402.201</td>\n",
       "      <td>5076</td>\n",
       "      <td>7.7</td>\n",
       "      <td>Fantasy</td>\n",
       "      <td>Popular</td>\n",
       "    </tr>\n",
       "    <tr>\n",
       "      <th>7</th>\n",
       "      <td>2021</td>\n",
       "      <td>Encanto</td>\n",
       "      <td>2402.201</td>\n",
       "      <td>5076</td>\n",
       "      <td>7.7</td>\n",
       "      <td>Animation</td>\n",
       "      <td>Popular</td>\n",
       "    </tr>\n",
       "  </tbody>\n",
       "</table>\n",
       "</div>"
      ],
      "text/plain": [
       "    Release_Date                    Title  Popularity  Vote_Count  \\\n",
       "0           2021  Spider-Man: No Way Home    5083.954        8940   \n",
       "2           2021  Spider-Man: No Way Home    5083.954        8940   \n",
       "1           2021  Spider-Man: No Way Home    5083.954        8940   \n",
       "3           2022               The Batman    3827.658        1151   \n",
       "5           2022               The Batman    3827.658        1151   \n",
       "4           2022               The Batman    3827.658        1151   \n",
       "6           2022                  No Exit    2618.087         122   \n",
       "9           2021                  Encanto    2402.201        5076   \n",
       "10          2021                  Encanto    2402.201        5076   \n",
       "7           2021                  Encanto    2402.201        5076   \n",
       "\n",
       "    Vote_Average            Genre Vote_Average_Category  \n",
       "0            8.3           Action               Popular  \n",
       "2            8.3  Science Fiction               Popular  \n",
       "1            8.3        Adventure               Popular  \n",
       "3            8.1            Crime               Popular  \n",
       "5            8.1         Thriller               Popular  \n",
       "4            8.1          Mystery               Popular  \n",
       "6            6.3         Thriller         Below Average  \n",
       "9            7.7           Family               Popular  \n",
       "10           7.7          Fantasy               Popular  \n",
       "7            7.7        Animation               Popular  "
      ]
     },
     "execution_count": 121,
     "metadata": {},
     "output_type": "execute_result"
    }
   ],
   "source": [
    "#Or: \n",
    "df.sort_values(by='Popularity', ascending=False).head(10)"
   ]
  },
  {
   "cell_type": "code",
   "execution_count": 122,
   "id": "1b10ce82-5984-4516-8208-36e829629734",
   "metadata": {},
   "outputs": [
    {
     "data": {
      "image/png": "[encoded data removed]",
      "text/plain": [
       "<Figure size 640x480 with 1 Axes>"
      ]
     },
     "metadata": {},
     "output_type": "display_data"
    }
   ],
   "source": [
    "df_sorted = df.sort_values(by='Popularity', ascending=False)\n",
    "sns.barplot(y='Title', x='Popularity', data=df_sorted.head(20))\n",
    "plt.show()\n",
    "\n",
    "#df.sort_values(by='Popularity', ascending=False): This sorts the DataFrame df by the 'Popularity' column in descending order (because ascending=False)\n",
    "#This means that the rows with the highest popularity values will appear at the top of the DataFrame.\n",
    "\n",
    "#sns.barplot(): This function from the seaborn library is used to create a bar plot.\n",
    "\n",
    "#y='Title': The Title column of the DataFrame will be used for the labels on the y-axis.\n",
    "\n",
    "#x='Popularity': The Popularity column will be used for the values on the x-axis.\n",
    "\n",
    "#data=df_sorted.head(20): This specifies that you want to plot the first 20 rows of the sorted DataFrame df_sorted. \n",
    "#The head(20) function selects the top 20 rows, so you will plot the 20 entries with the highest popularity values.\n"
   ]
  },
  {
   "cell_type": "markdown",
   "id": "21f1799c-be0f-42bc-9e3d-0b2a349e276d",
   "metadata": {},
   "source": [
    "### Question 4: What movie got the lowest popularity? what's its genre?"
   ]
  },
  {
   "cell_type": "code",
   "execution_count": 124,
   "id": "1499f19c-37ee-4123-81d9-bc5d1be128ce",
   "metadata": {},
   "outputs": [
    {
     "data": {
      "text/html": [
       "<div>\n",
       "<style scoped>\n",
       "    .dataframe tbody tr th:only-of-type {\n",
       "        vertical-align: middle;\n",
       "    }\n",
       "\n",
       "    .dataframe tbody tr th {\n",
       "        vertical-align: top;\n",
       "    }\n",
       "\n",
       "    .dataframe thead th {\n",
       "        text-align: right;\n",
       "    }\n",
       "</style>\n",
       "<table border=\"1\" class=\"dataframe\">\n",
       "  <thead>\n",
       "    <tr style=\"text-align: right;\">\n",
       "      <th></th>\n",
       "      <th>Release_Date</th>\n",
       "      <th>Title</th>\n",
       "      <th>Popularity</th>\n",
       "      <th>Vote_Count</th>\n",
       "      <th>Vote_Average</th>\n",
       "      <th>Genre</th>\n",
       "      <th>Vote_Average_Category</th>\n",
       "    </tr>\n",
       "  </thead>\n",
       "  <tbody>\n",
       "    <tr>\n",
       "      <th>25546</th>\n",
       "      <td>2021</td>\n",
       "      <td>The United States vs. Billie Holiday</td>\n",
       "      <td>13.354</td>\n",
       "      <td>152</td>\n",
       "      <td>6.7</td>\n",
       "      <td>Music</td>\n",
       "      <td>Average</td>\n",
       "    </tr>\n",
       "    <tr>\n",
       "      <th>25547</th>\n",
       "      <td>2021</td>\n",
       "      <td>The United States vs. Billie Holiday</td>\n",
       "      <td>13.354</td>\n",
       "      <td>152</td>\n",
       "      <td>6.7</td>\n",
       "      <td>Drama</td>\n",
       "      <td>Average</td>\n",
       "    </tr>\n",
       "    <tr>\n",
       "      <th>25548</th>\n",
       "      <td>2021</td>\n",
       "      <td>The United States vs. Billie Holiday</td>\n",
       "      <td>13.354</td>\n",
       "      <td>152</td>\n",
       "      <td>6.7</td>\n",
       "      <td>History</td>\n",
       "      <td>Average</td>\n",
       "    </tr>\n",
       "    <tr>\n",
       "      <th>25549</th>\n",
       "      <td>1984</td>\n",
       "      <td>Threads</td>\n",
       "      <td>13.354</td>\n",
       "      <td>186</td>\n",
       "      <td>7.8</td>\n",
       "      <td>War</td>\n",
       "      <td>Popular</td>\n",
       "    </tr>\n",
       "    <tr>\n",
       "      <th>25550</th>\n",
       "      <td>1984</td>\n",
       "      <td>Threads</td>\n",
       "      <td>13.354</td>\n",
       "      <td>186</td>\n",
       "      <td>7.8</td>\n",
       "      <td>Drama</td>\n",
       "      <td>Popular</td>\n",
       "    </tr>\n",
       "    <tr>\n",
       "      <th>25551</th>\n",
       "      <td>1984</td>\n",
       "      <td>Threads</td>\n",
       "      <td>13.354</td>\n",
       "      <td>186</td>\n",
       "      <td>7.8</td>\n",
       "      <td>Science Fiction</td>\n",
       "      <td>Popular</td>\n",
       "    </tr>\n",
       "  </tbody>\n",
       "</table>\n",
       "</div>"
      ],
      "text/plain": [
       "       Release_Date                                 Title  Popularity  \\\n",
       "25546          2021  The United States vs. Billie Holiday      13.354   \n",
       "25547          2021  The United States vs. Billie Holiday      13.354   \n",
       "25548          2021  The United States vs. Billie Holiday      13.354   \n",
       "25549          1984                               Threads      13.354   \n",
       "25550          1984                               Threads      13.354   \n",
       "25551          1984                               Threads      13.354   \n",
       "\n",
       "       Vote_Count  Vote_Average            Genre Vote_Average_Category  \n",
       "25546         152           6.7            Music               Average  \n",
       "25547         152           6.7            Drama               Average  \n",
       "25548         152           6.7          History               Average  \n",
       "25549         186           7.8              War               Popular  \n",
       "25550         186           7.8            Drama               Popular  \n",
       "25551         186           7.8  Science Fiction               Popular  "
      ]
     },
     "execution_count": 124,
     "metadata": {},
     "output_type": "execute_result"
    }
   ],
   "source": [
    "df[df['Popularity']==df['Popularity'].min()]\n",
    "\n",
    "# df['Popularity'].min() --> Finds the minimum value inside Popularity\n",
    "\n",
    "# df['Popularity']==df['Popularity'].min() --> Checks each row if the popularity = minimum \n",
    "\n",
    "#df[df['Popularity']==df['Popularity'].min()] --> Filters those rows from the dataframe where popularity is minimum"
   ]
  },
  {
   "cell_type": "code",
   "execution_count": 125,
   "id": "c6f420a1-194d-4329-a380-2f57372652a8",
   "metadata": {},
   "outputs": [
    {
     "data": {
      "text/html": [
       "<div>\n",
       "<style scoped>\n",
       "    .dataframe tbody tr th:only-of-type {\n",
       "        vertical-align: middle;\n",
       "    }\n",
       "\n",
       "    .dataframe tbody tr th {\n",
       "        vertical-align: top;\n",
       "    }\n",
       "\n",
       "    .dataframe thead th {\n",
       "        text-align: right;\n",
       "    }\n",
       "</style>\n",
       "<table border=\"1\" class=\"dataframe\">\n",
       "  <thead>\n",
       "    <tr style=\"text-align: right;\">\n",
       "      <th></th>\n",
       "      <th>Release_Date</th>\n",
       "      <th>Title</th>\n",
       "      <th>Popularity</th>\n",
       "      <th>Vote_Count</th>\n",
       "      <th>Vote_Average</th>\n",
       "      <th>Genre</th>\n",
       "      <th>Vote_Average_Category</th>\n",
       "    </tr>\n",
       "  </thead>\n",
       "  <tbody>\n",
       "    <tr>\n",
       "      <th>25551</th>\n",
       "      <td>1984</td>\n",
       "      <td>Threads</td>\n",
       "      <td>13.354</td>\n",
       "      <td>186</td>\n",
       "      <td>7.8</td>\n",
       "      <td>Science Fiction</td>\n",
       "      <td>Popular</td>\n",
       "    </tr>\n",
       "    <tr>\n",
       "      <th>25546</th>\n",
       "      <td>2021</td>\n",
       "      <td>The United States vs. Billie Holiday</td>\n",
       "      <td>13.354</td>\n",
       "      <td>152</td>\n",
       "      <td>6.7</td>\n",
       "      <td>Music</td>\n",
       "      <td>Average</td>\n",
       "    </tr>\n",
       "    <tr>\n",
       "      <th>25547</th>\n",
       "      <td>2021</td>\n",
       "      <td>The United States vs. Billie Holiday</td>\n",
       "      <td>13.354</td>\n",
       "      <td>152</td>\n",
       "      <td>6.7</td>\n",
       "      <td>Drama</td>\n",
       "      <td>Average</td>\n",
       "    </tr>\n",
       "    <tr>\n",
       "      <th>25550</th>\n",
       "      <td>1984</td>\n",
       "      <td>Threads</td>\n",
       "      <td>13.354</td>\n",
       "      <td>186</td>\n",
       "      <td>7.8</td>\n",
       "      <td>Drama</td>\n",
       "      <td>Popular</td>\n",
       "    </tr>\n",
       "    <tr>\n",
       "      <th>25549</th>\n",
       "      <td>1984</td>\n",
       "      <td>Threads</td>\n",
       "      <td>13.354</td>\n",
       "      <td>186</td>\n",
       "      <td>7.8</td>\n",
       "      <td>War</td>\n",
       "      <td>Popular</td>\n",
       "    </tr>\n",
       "    <tr>\n",
       "      <th>25548</th>\n",
       "      <td>2021</td>\n",
       "      <td>The United States vs. Billie Holiday</td>\n",
       "      <td>13.354</td>\n",
       "      <td>152</td>\n",
       "      <td>6.7</td>\n",
       "      <td>History</td>\n",
       "      <td>Average</td>\n",
       "    </tr>\n",
       "    <tr>\n",
       "      <th>25544</th>\n",
       "      <td>2016</td>\n",
       "      <td>The Offering</td>\n",
       "      <td>13.355</td>\n",
       "      <td>94</td>\n",
       "      <td>5.0</td>\n",
       "      <td>Thriller</td>\n",
       "      <td>Not Popular</td>\n",
       "    </tr>\n",
       "    <tr>\n",
       "      <th>25545</th>\n",
       "      <td>2016</td>\n",
       "      <td>The Offering</td>\n",
       "      <td>13.355</td>\n",
       "      <td>94</td>\n",
       "      <td>5.0</td>\n",
       "      <td>Horror</td>\n",
       "      <td>Not Popular</td>\n",
       "    </tr>\n",
       "    <tr>\n",
       "      <th>25543</th>\n",
       "      <td>2016</td>\n",
       "      <td>The Offering</td>\n",
       "      <td>13.355</td>\n",
       "      <td>94</td>\n",
       "      <td>5.0</td>\n",
       "      <td>Mystery</td>\n",
       "      <td>Not Popular</td>\n",
       "    </tr>\n",
       "    <tr>\n",
       "      <th>25542</th>\n",
       "      <td>2020</td>\n",
       "      <td>Violent Delights</td>\n",
       "      <td>13.356</td>\n",
       "      <td>8</td>\n",
       "      <td>3.5</td>\n",
       "      <td>Horror</td>\n",
       "      <td>Not Popular</td>\n",
       "    </tr>\n",
       "  </tbody>\n",
       "</table>\n",
       "</div>"
      ],
      "text/plain": [
       "       Release_Date                                 Title  Popularity  \\\n",
       "25551          1984                               Threads      13.354   \n",
       "25546          2021  The United States vs. Billie Holiday      13.354   \n",
       "25547          2021  The United States vs. Billie Holiday      13.354   \n",
       "25550          1984                               Threads      13.354   \n",
       "25549          1984                               Threads      13.354   \n",
       "25548          2021  The United States vs. Billie Holiday      13.354   \n",
       "25544          2016                          The Offering      13.355   \n",
       "25545          2016                          The Offering      13.355   \n",
       "25543          2016                          The Offering      13.355   \n",
       "25542          2020                      Violent Delights      13.356   \n",
       "\n",
       "       Vote_Count  Vote_Average            Genre Vote_Average_Category  \n",
       "25551         186           7.8  Science Fiction               Popular  \n",
       "25546         152           6.7            Music               Average  \n",
       "25547         152           6.7            Drama               Average  \n",
       "25550         186           7.8            Drama               Popular  \n",
       "25549         186           7.8              War               Popular  \n",
       "25548         152           6.7          History               Average  \n",
       "25544          94           5.0         Thriller           Not Popular  \n",
       "25545          94           5.0           Horror           Not Popular  \n",
       "25543          94           5.0          Mystery           Not Popular  \n",
       "25542           8           3.5           Horror           Not Popular  "
      ]
     },
     "execution_count": 125,
     "metadata": {},
     "output_type": "execute_result"
    }
   ],
   "source": [
    "#Or:\n",
    "df.sort_values(by='Popularity', ascending=True).head(10)"
   ]
  },
  {
   "cell_type": "code",
   "execution_count": 126,
   "id": "404ef19a-92dc-40d0-a47e-a3c299e6b7db",
   "metadata": {},
   "outputs": [
    {
     "data": {
      "image/png": "[encoded data removed]",
      "text/plain": [
       "<Figure size 640x480 with 1 Axes>"
      ]
     },
     "metadata": {},
     "output_type": "display_data"
    }
   ],
   "source": [
    "df_sorted = df.sort_values(by='Popularity', ascending=True)\n",
    "sns.barplot(y='Title', x='Popularity', data=df_sorted.head(20))\n",
    "plt.show()\n",
    "\n",
    "#df.sort_values(by='Popularity', ascending=True): This sorts the DataFrame df by the 'Popularity' column in asecnding order (because ascending=True)\n",
    "#This means that the rows with the lowest popularity values will appear at the top of the DataFrame.\n",
    "\n",
    "#sns.barplot(): This function from the seaborn library is used to create a bar plot.\n",
    "\n",
    "#y='Title': The Title column of the DataFrame will be used for the labels on the y-axis.\n",
    "\n",
    "#x='Popularity': The Popularity column will be used for the values on the x-axis.\n",
    "\n",
    "#data=df_sorted.head(20): This specifies that you want to plot the first 20 rows of the sorted DataFrame df_sorted. \n",
    "#The head(20) function selects the top 20 rows, so you will plot the 20 entries with the lowest popularity values.\n"
   ]
  },
  {
   "cell_type": "markdown",
   "id": "e3b3c251-4a51-47f7-b67c-1a67a2d46ed8",
   "metadata": {},
   "source": [
    "### Question 5: Which year has the most filmed movies?"
   ]
  },
  {
   "cell_type": "code",
   "execution_count": 258,
   "id": "407c78b0-73c2-4623-8d7e-c6f595c084a0",
   "metadata": {},
   "outputs": [
    {
     "data": {
      "text/plain": [
       "Release_Date\n",
       "2021    1636\n",
       "2018    1384\n",
       "2017    1365\n",
       "2019    1271\n",
       "2016    1209\n",
       "2020    1121\n",
       "2015    1015\n",
       "2014     922\n",
       "2013     877\n",
       "2011     855\n",
       "Name: count, dtype: int64"
      ]
     },
     "execution_count": 258,
     "metadata": {},
     "output_type": "execute_result"
    },
    {
     "data": {
      "image/png": "[encoded data removed]",
      "text/plain": [
       "<Figure size 640x480 with 1 Axes>"
      ]
     },
     "metadata": {},
     "output_type": "display_data"
    }
   ],
   "source": [
    "df['Release_Date'].hist(bins=range(df['Release_Date'].min(), df['Release_Date'].max() + 1))\n",
    "plt.title(\"Movies by Year of Release\")\n",
    "plt.show\n",
    "\n",
    "df['Release_Date'].value_counts().head(10).sort_values(ascending = False)\n"
   ]
  },
  {
   "cell_type": "code",
   "execution_count": null,
   "id": "034517c6-293e-41a4-a8d0-e93a51643092",
   "metadata": {},
   "outputs": [],
   "source": []
  }
 ],
 "metadata": {
  "kernelspec": {
   "display_name": "Python [conda env:base] *",
   "language": "python",
   "name": "conda-base-py"
  },
  "language_info": {
   "codemirror_mode": {
    "name": "ipython",
    "version": 3
   },
   "file_extension": ".py",
   "mimetype": "text/x-python",
   "name": "python",
   "nbconvert_exporter": "python",
   "pygments_lexer": "ipython3",
   "version": "3.12.7"
  }
 },
 "nbformat": 4,
 "nbformat_minor": 5
}
